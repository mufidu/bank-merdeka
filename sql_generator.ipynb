{
 "metadata": {
  "language_info": {
   "codemirror_mode": {
    "name": "ipython",
    "version": 3
   },
   "file_extension": ".py",
   "mimetype": "text/x-python",
   "name": "python",
   "nbconvert_exporter": "python",
   "pygments_lexer": "ipython3",
   "version": "3.8.3"
  },
  "orig_nbformat": 4,
  "kernelspec": {
   "name": "python3",
   "display_name": "Python 3.8.3 64-bit ('base': conda)"
  },
  "interpreter": {
   "hash": "b3ba2566441a7c06988d0923437866b63cedc61552a5af99d1f4fb67d367b25f"
  }
 },
 "nbformat": 4,
 "nbformat_minor": 2,
 "cells": [
  {
   "cell_type": "code",
   "execution_count": 1,
   "metadata": {},
   "outputs": [
    {
     "output_type": "stream",
     "name": "stdout",
     "text": [
      "INSERT INTO Rekening VALUES(1730006551, 300000, 400000);\nINSERT INTO Rekening VALUES(1730006552, 400000, 600000);\nINSERT INTO Rekening VALUES(1730006553, 500000, 800000);\nINSERT INTO Rekening VALUES(1730006554, 600000, 1000000);\nINSERT INTO Rekening VALUES(1730006555, 700000, 1200000);\n"
     ]
    }
   ],
   "source": [
    "# REKENING\n",
    "for i in range(5):\n",
    "    print(\n",
    "        f\"INSERT INTO Rekening VALUES(173000655{i+1}, {100000*(i+3)}, {200000*(i+2)});\")"
   ]
  },
  {
   "cell_type": "code",
   "execution_count": 2,
   "metadata": {},
   "outputs": [
    {
     "output_type": "stream",
     "name": "stdout",
     "text": [
      "INSERT INTO ATM VALUES (1163637263, 'platinum', '2025-02-03', 1730006551);\nINSERT INTO ATM VALUES (1163637264, 'platinum', '2025-03-03', 1730006552);\nINSERT INTO ATM VALUES (1163637265, 'platinum', '2025-04-03', 1730006553);\nINSERT INTO ATM VALUES (1163637266, 'platinum', '2025-05-03', 1730006554);\nINSERT INTO ATM VALUES (1163637267, 'platinum', '2025-06-03', 1730006555);\n"
     ]
    }
   ],
   "source": [
    "# ATM\n",
    "for i in range(5):\n",
    "    print(\n",
    "        f\"INSERT INTO ATM VALUES (116363726{i+3}, 'platinum', '2025-0{i+2}-03', 173000655{i+1});\")"
   ]
  },
  {
   "cell_type": "code",
   "execution_count": 21,
   "metadata": {},
   "outputs": [
    {
     "output_type": "stream",
     "name": "stdout",
     "text": [
      "INSERT INTO BukuTabungan VALUES (176253781, 001, 1730006551);\nINSERT INTO BukuTabungan VALUES (176253782, 002, 1730006552);\nINSERT INTO BukuTabungan VALUES (176253783, 003, 1730006553);\nINSERT INTO BukuTabungan VALUES (176253784, 004, 1730006554);\nINSERT INTO BukuTabungan VALUES (176253785, 005, 1730006555);\n"
     ]
    }
   ],
   "source": [
    "# BUKU TABUNGAN\n",
    "for i in range(5):\n",
    "    print(f\"INSERT INTO BukuTabungan VALUES (17625378{i+1}, 00{i+1}, 173000655{i+1});\")"
   ]
  },
  {
   "cell_type": "code",
   "execution_count": 22,
   "metadata": {},
   "outputs": [
    {
     "output_type": "stream",
     "name": "stdout",
     "text": [
      "INSERT INTO Transaksi(transaksi_id, waktu, tempat, rekening_id, teller_id) VALUES (1, '2021-04-25 07:01:1', 'Kalimantan', 1730006555, 6);\nINSERT INTO Transaksi(transaksi_id, waktu, tempat, rekening_id, teller_id) VALUES (2, '2021-01-23 05:02:2', 'Jakarta', 1730006551, 10);\nINSERT INTO Transaksi(transaksi_id, waktu, tempat, rekening_id, teller_id) VALUES (3, '2021-02-28 12:31:3', 'Bogor', 1730006552, 9);\nINSERT INTO Transaksi(transaksi_id, waktu, tempat, rekening_id, teller_id) VALUES (4, '2021-04-03 19:01:4', 'Bekasi', 1730006553, 8);\nINSERT INTO Transaksi(transaksi_id, waktu, tempat, rekening_id, teller_id) VALUES (5, '2021-04-14 13:01:5', 'Depok', 1730006554, 7);\nINSERT INTO Transaksi(transaksi_id, waktu, tempat, rekening_id, teller_id) VALUES (6, '2021-04-25 07:01:6', 'Kalimantan', 1730006555, 6);\nINSERT INTO Transaksi(transaksi_id, waktu, tempat, rekening_id, teller_id) VALUES (7, '2021-04-03 19:01:7', 'Bekasi', 1730006553, 8);\nINSERT INTO Transaksi(transaksi_id, waktu, tempat, rekening_id, teller_id) VALUES (8, '2021-01-23 05:02:8', 'Jakarta', 1730006551, 10);\nINSERT INTO Transaksi(transaksi_id, waktu, tempat, rekening_id, teller_id) VALUES (9, '2021-04-14 13:01:9', 'Depok', 1730006554, 7);\nINSERT INTO Transaksi(transaksi_id, waktu, tempat, rekening_id, teller_id) VALUES (10, '2021-04-03 19:01:10', 'Bekasi', 1730006553, 8);\nINSERT INTO Transaksi(transaksi_id, waktu, tempat, rekening_id, teller_id) VALUES (11, '2021-04-25 07:01:11', 'Kalimantan', 1730006555, 6);\nINSERT INTO Transaksi(transaksi_id, waktu, tempat, rekening_id, teller_id) VALUES (12, '2021-01-23 05:02:12', 'Jakarta', 1730006551, 10);\nINSERT INTO Transaksi(transaksi_id, waktu, tempat, rekening_id, teller_id) VALUES (13, '2021-04-14 13:01:13', 'Depok', 1730006554, 7);\nINSERT INTO Transaksi(transaksi_id, waktu, tempat, rekening_id, teller_id) VALUES (14, '2021-01-23 05:02:14', 'Jakarta', 1730006551, 10);\nINSERT INTO Transaksi(transaksi_id, waktu, tempat, rekening_id, teller_id) VALUES (15, '2021-02-28 12:31:15', 'Bogor', 1730006552, 9);\nINSERT INTO Transaksi(transaksi_id, waktu, tempat, rekening_id, teller_id) VALUES (16, '2021-04-25 07:01:16', 'Kalimantan', 1730006555, 6);\nINSERT INTO Transaksi(transaksi_id, waktu, tempat, rekening_id, teller_id) VALUES (17, '2021-04-14 13:01:17', 'Depok', 1730006554, 7);\nINSERT INTO Transaksi(transaksi_id, waktu, tempat, rekening_id, teller_id) VALUES (18, '2021-01-23 05:02:18', 'Jakarta', 1730006551, 10);\nINSERT INTO Transaksi(transaksi_id, waktu, tempat, rekening_id, teller_id) VALUES (19, '2021-04-03 19:01:19', 'Bekasi', 1730006553, 8);\nINSERT INTO Transaksi(transaksi_id, waktu, tempat, rekening_id, teller_id) VALUES (20, '2021-01-23 05:02:20', 'Jakarta', 1730006551, 10);\nINSERT INTO Transaksi(transaksi_id, waktu, tempat, rekening_id, teller_id) VALUES (21, '2021-04-25 07:01:21', 'Kalimantan', 1730006555, 6);\nINSERT INTO Transaksi(transaksi_id, waktu, tempat, rekening_id, teller_id) VALUES (22, '2021-04-03 19:01:22', 'Bekasi', 1730006553, 8);\nINSERT INTO Transaksi(transaksi_id, waktu, tempat, rekening_id, teller_id) VALUES (23, '2021-02-28 12:31:23', 'Bogor', 1730006552, 9);\nINSERT INTO Transaksi(transaksi_id, waktu, tempat, rekening_id, teller_id) VALUES (24, '2021-01-23 05:02:24', 'Jakarta', 1730006551, 10);\nINSERT INTO Transaksi(transaksi_id, waktu, tempat, rekening_id, teller_id) VALUES (25, '2021-04-14 13:01:25', 'Depok', 1730006554, 7);\nINSERT INTO Transaksi(transaksi_id, waktu, tempat, rekening_id, teller_id) VALUES (26, '2021-04-25 07:01:26', 'Kalimantan', 1730006555, 6);\nINSERT INTO Transaksi(transaksi_id, waktu, tempat, rekening_id, teller_id) VALUES (27, '2021-02-28 12:31:27', 'Bogor', 1730006552, 9);\nINSERT INTO Transaksi(transaksi_id, waktu, tempat, rekening_id, teller_id) VALUES (28, '2021-04-03 19:01:28', 'Bekasi', 1730006553, 8);\nINSERT INTO Transaksi(transaksi_id, waktu, tempat, rekening_id, teller_id) VALUES (29, '2021-04-14 13:01:29', 'Depok', 1730006554, 7);\nINSERT INTO Transaksi(transaksi_id, waktu, tempat, rekening_id, teller_id) VALUES (30, '2021-01-23 05:02:30', 'Jakarta', 1730006551, 10);\nINSERT INTO Transaksi(transaksi_id, waktu, tempat, rekening_id, teller_id) VALUES (31, '2021-04-25 07:01:31', 'Kalimantan', 1730006555, 6);\nINSERT INTO Transaksi(transaksi_id, waktu, tempat, rekening_id, teller_id) VALUES (32, '2021-01-23 05:02:32', 'Jakarta', 1730006551, 10);\nINSERT INTO Transaksi(transaksi_id, waktu, tempat, rekening_id, teller_id) VALUES (33, '2021-04-14 13:01:33', 'Depok', 1730006554, 7);\nINSERT INTO Transaksi(transaksi_id, waktu, tempat, rekening_id, teller_id) VALUES (34, '2021-04-03 19:01:34', 'Bekasi', 1730006553, 8);\nINSERT INTO Transaksi(transaksi_id, waktu, tempat, rekening_id, teller_id) VALUES (35, '2021-02-28 12:31:35', 'Bogor', 1730006552, 9);\nINSERT INTO Transaksi(transaksi_id, waktu, tempat, rekening_id, teller_id) VALUES (36, '2021-04-25 07:01:36', 'Kalimantan', 1730006555, 6);\nINSERT INTO Transaksi(transaksi_id, waktu, tempat, rekening_id, teller_id) VALUES (37, '2021-04-14 13:01:37', 'Depok', 1730006554, 7);\nINSERT INTO Transaksi(transaksi_id, waktu, tempat, rekening_id, teller_id) VALUES (38, '2021-01-23 05:02:38', 'Jakarta', 1730006551, 10);\nINSERT INTO Transaksi(transaksi_id, waktu, tempat, rekening_id, teller_id) VALUES (39, '2021-02-28 12:31:39', 'Bogor', 1730006552, 9);\nINSERT INTO Transaksi(transaksi_id, waktu, tempat, rekening_id, teller_id) VALUES (40, '2021-04-03 19:01:40', 'Bekasi', 1730006553, 8);\nINSERT INTO Transaksi(transaksi_id, waktu, tempat, rekening_id, teller_id) VALUES (41, '2021-04-25 07:01:41', 'Kalimantan', 1730006555, 6);\nINSERT INTO Transaksi(transaksi_id, waktu, tempat, rekening_id, teller_id) VALUES (42, '2021-01-23 05:02:42', 'Jakarta', 1730006551, 10);\nINSERT INTO Transaksi(transaksi_id, waktu, tempat, rekening_id, teller_id) VALUES (43, '2021-04-03 19:01:43', 'Bekasi', 1730006553, 8);\nINSERT INTO Transaksi(transaksi_id, waktu, tempat, rekening_id, teller_id) VALUES (44, '2021-01-23 05:02:44', 'Jakarta', 1730006551, 10);\nINSERT INTO Transaksi(transaksi_id, waktu, tempat, rekening_id, teller_id) VALUES (45, '2021-04-14 13:01:45', 'Depok', 1730006554, 7);\n"
     ]
    }
   ],
   "source": [
    "# TRANSAKSI\n",
    "for j in range(45):\n",
    "    if j % 5 == 0:\n",
    "        print(f\"INSERT INTO Transaksi(transaksi_id, waktu, tempat, rekening_id, teller_id) VALUES ({j+1}, '2021-04-25 07:01:{j+1}', 'Kalimantan', 1730006555, 6);\")\n",
    "        continue\n",
    "    if j % 4 == 0:\n",
    "        print(f\"INSERT INTO Transaksi(transaksi_id, waktu, tempat, rekening_id, teller_id) VALUES ({j+1}, '2021-04-14 13:01:{j+1}', 'Depok', 1730006554, 7);\")\n",
    "        continue\n",
    "    if j % 3 == 0:\n",
    "        print(f\"INSERT INTO Transaksi(transaksi_id, waktu, tempat, rekening_id, teller_id) VALUES ({j+1}, '2021-04-03 19:01:{j+1}', 'Bekasi', 1730006553, 8);\")\n",
    "        continue\n",
    "    if j % 2 == 0:\n",
    "        print(f\"INSERT INTO Transaksi(transaksi_id, waktu, tempat, rekening_id, teller_id) VALUES ({j+1}, '2021-02-28 12:31:{j+1}', 'Bogor', 1730006552, 9);\")\n",
    "        continue\n",
    "    if j % 1 == 0:\n",
    "        print(f\"INSERT INTO Transaksi(transaksi_id, waktu, tempat, rekening_id, teller_id) VALUES ({j+1}, '2021-01-23 05:02:{j+1}', 'Jakarta', 1730006551, 10);\")"
   ]
  },
  {
   "cell_type": "code",
   "execution_count": 23,
   "metadata": {},
   "outputs": [
    {
     "output_type": "stream",
     "name": "stdout",
     "text": [
      "INSERT INTO KirimUang (transaksi_id, jumlah, rekening_penerima) VALUES (1, 210000, 1327385268961);\nINSERT INTO KirimUang (transaksi_id, jumlah, rekening_penerima) VALUES (2, 280000, 1327385268962);\nINSERT INTO KirimUang (transaksi_id, jumlah, rekening_penerima) VALUES (3, 350000, 1327385268963);\nINSERT INTO KirimUang (transaksi_id, jumlah, rekening_penerima) VALUES (4, 420000, 1327385268964);\nINSERT INTO KirimUang (transaksi_id, jumlah, rekening_penerima) VALUES (5, 490000, 1327385268965);\nINSERT INTO KirimUang (transaksi_id, jumlah, rekening_penerima) VALUES (6, 560000, 1327385268966);\nINSERT INTO KirimUang (transaksi_id, jumlah, rekening_penerima) VALUES (7, 630000, 1327385268967);\nINSERT INTO KirimUang (transaksi_id, jumlah, rekening_penerima) VALUES (8, 700000, 1327385268968);\nINSERT INTO KirimUang (transaksi_id, jumlah, rekening_penerima) VALUES (9, 770000, 1327385268969);\n"
     ]
    }
   ],
   "source": [
    "# KIRIM UANG\n",
    "for i in range(9):\n",
    "    print(f\"INSERT INTO KirimUang (transaksi_id, jumlah, rekening_penerima) VALUES ({i+1}, {70000*(i+3)}, 132738526896{i+1});\")"
   ]
  },
  {
   "cell_type": "code",
   "execution_count": 24,
   "metadata": {},
   "outputs": [
    {
     "output_type": "stream",
     "name": "stdout",
     "text": [
      "INSERT INTO KirimUang (transaksi_id, jumlah, rekening_penerima) VALUES (11, 910000, 1327385269611);\nINSERT INTO KirimUang (transaksi_id, jumlah, rekening_penerima) VALUES (12, 980000, 1327385269612);\nINSERT INTO KirimUang (transaksi_id, jumlah, rekening_penerima) VALUES (13, 1050000, 1327385269613);\nINSERT INTO KirimUang (transaksi_id, jumlah, rekening_penerima) VALUES (14, 1120000, 1327385269614);\nINSERT INTO KirimUang (transaksi_id, jumlah, rekening_penerima) VALUES (15, 1190000, 1327385269615);\n"
     ]
    }
   ],
   "source": [
    "# KIRIM UANG 2\n",
    "for i in range(10, 15):\n",
    "    print(f\"INSERT INTO KirimUang (transaksi_id, jumlah, rekening_penerima) VALUES ({i+1}, {70000*(i+3)}, 13273852696{i+1});\")"
   ]
  },
  {
   "cell_type": "code",
   "execution_count": 25,
   "metadata": {},
   "outputs": [
    {
     "output_type": "stream",
     "name": "stdout",
     "text": [
      "INSERT INTO SetorTarikUang (transaksi_id, jumlah, waktu, lokasi) VALUES (16, 480000, '13:56:21', 'cabang pertama');\nINSERT INTO SetorTarikUang (transaksi_id, jumlah, waktu, lokasi) VALUES (17, 38000, '12:19:40', 'cabang kedua');\nINSERT INTO SetorTarikUang (transaksi_id, jumlah, waktu, lokasi) VALUES (18, 60000, '18:36:12', 'cabang ketiga');\nINSERT INTO SetorTarikUang (transaksi_id, jumlah, waktu, lokasi) VALUES (19, 2160000, '21:39:10', 'cabang kedua');\nINSERT INTO SetorTarikUang (transaksi_id, jumlah, waktu, lokasi) VALUES (20, 66000, '18:36:12', 'cabang ketiga');\nINSERT INTO SetorTarikUang (transaksi_id, jumlah, waktu, lokasi) VALUES (21, 630000, '13:56:21', 'cabang pertama');\nINSERT INTO SetorTarikUang (transaksi_id, jumlah, waktu, lokasi) VALUES (22, 2400000, '21:39:10', 'cabang kedua');\nINSERT INTO SetorTarikUang (transaksi_id, jumlah, waktu, lokasi) VALUES (23, 240000, '09:27:07', 'cabang pertama');\nINSERT INTO SetorTarikUang (transaksi_id, jumlah, waktu, lokasi) VALUES (24, 78000, '18:36:12', 'cabang ketiga');\nINSERT INTO SetorTarikUang (transaksi_id, jumlah, waktu, lokasi) VALUES (25, 54000, '12:19:40', 'cabang kedua');\nINSERT INTO SetorTarikUang (transaksi_id, jumlah, waktu, lokasi) VALUES (26, 780000, '13:56:21', 'cabang pertama');\nINSERT INTO SetorTarikUang (transaksi_id, jumlah, waktu, lokasi) VALUES (27, 280000, '09:27:07', 'cabang pertama');\nINSERT INTO SetorTarikUang (transaksi_id, jumlah, waktu, lokasi) VALUES (28, 2880000, '21:39:10', 'cabang kedua');\nINSERT INTO SetorTarikUang (transaksi_id, jumlah, waktu, lokasi) VALUES (29, 62000, '12:19:40', 'cabang kedua');\nINSERT INTO SetorTarikUang (transaksi_id, jumlah, waktu, lokasi) VALUES (30, 96000, '18:36:12', 'cabang ketiga');\n"
     ]
    }
   ],
   "source": [
    "# SETOR UANG\n",
    "for j in range(15, 30):\n",
    "    if j % 5 == 0:\n",
    "        print(f\"INSERT INTO SetorTarikUang (transaksi_id, jumlah, waktu, lokasi) VALUES ({j+1}, {30000*(j+1)}, '13:56:21', 'cabang pertama');\")\n",
    "        continue\n",
    "    if j % 4 == 0:\n",
    "        print(f\"INSERT INTO SetorTarikUang (transaksi_id, jumlah, waktu, lokasi) VALUES ({j+1}, {2000*(j+3)}, '12:19:40', 'cabang kedua');\")\n",
    "        continue\n",
    "    if j % 3 == 0:\n",
    "        print(f\"INSERT INTO SetorTarikUang (transaksi_id, jumlah, waktu, lokasi) VALUES ({j+1}, {80000*(j+9)}, '21:39:10', 'cabang kedua');\")\n",
    "        continue\n",
    "    if j % 2 == 0:\n",
    "        print(f\"INSERT INTO SetorTarikUang (transaksi_id, jumlah, waktu, lokasi) VALUES ({j+1}, {10000*(j+2)}, '09:27:07', 'cabang pertama');\")\n",
    "        continue\n",
    "    if j % 1 == 0:\n",
    "        print(f\"INSERT INTO SetorTarikUang (transaksi_id, jumlah, waktu, lokasi) VALUES ({j+1}, {3000*(j+3)}, '18:36:12', 'cabang ketiga');\")"
   ]
  },
  {
   "cell_type": "code",
   "execution_count": 20,
   "metadata": {},
   "outputs": [
    {
     "output_type": "stream",
     "name": "stdout",
     "text": [
      "INSERT INTO BukaRekening (transaksi_id, kode_transaksi, cs_id) VALUES (31, 001, 11);\nINSERT INTO BukaRekening (transaksi_id, kode_transaksi, cs_id) VALUES (32, 005, 15);\nINSERT INTO BukaRekening (transaksi_id, kode_transaksi, cs_id) VALUES (33, 002, 12);\nINSERT INTO BukaRekening (transaksi_id, kode_transaksi, cs_id) VALUES (34, 003, 13);\nINSERT INTO BukaRekening (transaksi_id, kode_transaksi, cs_id) VALUES (35, 004, 14);\nINSERT INTO BukaRekening (transaksi_id, kode_transaksi, cs_id) VALUES (36, 001, 11);\nINSERT INTO BukaRekening (transaksi_id, kode_transaksi, cs_id) VALUES (37, 002, 12);\nINSERT INTO BukaRekening (transaksi_id, kode_transaksi, cs_id) VALUES (38, 005, 15);\nINSERT INTO BukaRekening (transaksi_id, kode_transaksi, cs_id) VALUES (39, 004, 14);\nINSERT INTO BukaRekening (transaksi_id, kode_transaksi, cs_id) VALUES (40, 003, 13);\nINSERT INTO BukaRekening (transaksi_id, kode_transaksi, cs_id) VALUES (41, 001, 11);\nINSERT INTO BukaRekening (transaksi_id, kode_transaksi, cs_id) VALUES (42, 005, 15);\nINSERT INTO BukaRekening (transaksi_id, kode_transaksi, cs_id) VALUES (43, 003, 13);\nINSERT INTO BukaRekening (transaksi_id, kode_transaksi, cs_id) VALUES (44, 005, 15);\nINSERT INTO BukaRekening (transaksi_id, kode_transaksi, cs_id) VALUES (45, 002, 12);\n"
     ]
    }
   ],
   "source": [
    "# BUKA REKENING\n",
    "for j in range(30, 45):\n",
    "    if j % 5 == 0:\n",
    "        print(f\"INSERT INTO BukaRekening (transaksi_id, kode_transaksi, cs_id) VALUES ({j+1}, 001, 11);\")\n",
    "        continue\n",
    "    if j % 4 == 0:\n",
    "        print(f\"INSERT INTO BukaRekening (transaksi_id, kode_transaksi, cs_id) VALUES ({j+1}, 002, 12);\")\n",
    "        continue\n",
    "    if j % 3 == 0:\n",
    "        print(f\"INSERT INTO BukaRekening (transaksi_id, kode_transaksi, cs_id) VALUES ({j+1}, 003, 13);\")\n",
    "        continue\n",
    "    if j % 2 == 0:\n",
    "        print(f\"INSERT INTO BukaRekening (transaksi_id, kode_transaksi, cs_id) VALUES ({j+1}, 004, 14);\")\n",
    "        continue\n",
    "    if j % 1 == 0:\n",
    "        print(f\"INSERT INTO BukaRekening (transaksi_id, kode_transaksi, cs_id) VALUES ({j+1}, 005, 15);\")"
   ]
  }
 ]
}